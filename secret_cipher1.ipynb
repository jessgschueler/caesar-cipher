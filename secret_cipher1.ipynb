{
 "cells": [
  {
   "cell_type": "code",
   "execution_count": 4,
   "metadata": {},
   "outputs": [
    {
     "name": "stdout",
     "output_type": "stream",
     "text": [
      "Now we can send each other secret messages in code\n",
      "edoc ni segassem terces rehto hcae dnes nac ew woN\n"
     ]
    }
   ],
   "source": [
    "with open ('./secret_message.txt', 'r') as message:\n",
    "    msg = message.read()\n",
    "    rev_msg = msg[::-1]\n",
    "    print(msg)\n",
    "    print(rev_msg)\n",
    "\n",
    "with open ('./reverse_cipher.txt', 'w') as rev_file:\n",
    "    rev_file.write(rev_msg)\n"
   ]
  },
  {
   "cell_type": "code",
   "execution_count": 51,
   "metadata": {},
   "outputs": [
    {
     "data": {
      "text/plain": [
       "[30, 19, 20]"
      ]
     },
     "execution_count": 51,
     "metadata": {},
     "output_type": "execute_result"
    }
   ],
   "source": [
    "letters = ['a', 'b', 'c', 'd', 'e', 'f', 'g', 'h', 'i', 'j', 'k', 'l', 'm', 'n', 'o', 'p', 'q', 'r', 's', 't', 'u', 'v', 'w', 'x', 'y', 'z']\n",
    "key = input('Enter a number...')\n",
    "index_list = []\n",
    "result = []\n",
    "\n",
    "def crypt_list(msg):\n",
    "    key_list = list(msg)\n",
    "    for i in key_list:\n",
    "        index_list.append(letters.index(i) + int(key))\n",
    "    return index_list\n",
    "    # for i in index_list:\n",
    "    #     result.append(letters[i])\n",
    "    # print(''.join(result))\n",
    "\n",
    "crypt_list('zop')"
   ]
  },
  {
   "cell_type": "code",
   "execution_count": null,
   "metadata": {},
   "outputs": [],
   "source": [
    "with open ('./secret_message.txt', 'r') as message:\n",
    "    msg = message.read()\n",
    "   \n",
    "\n",
    "with open ('./ceaser_cipher.txt', 'w') as caesar_file:\n",
    "    caesar_file.write()"
   ]
  }
 ],
 "metadata": {
  "interpreter": {
   "hash": "9a8db7f0e6daa2a17717abc3ef42e4c5ecb17e010ba0d2b21c829abc02cdd9a2"
  },
  "kernelspec": {
   "display_name": "Python 3.7.13 ('venv': venv)",
   "language": "python",
   "name": "python3"
  },
  "language_info": {
   "codemirror_mode": {
    "name": "ipython",
    "version": 3
   },
   "file_extension": ".py",
   "mimetype": "text/x-python",
   "name": "python",
   "nbconvert_exporter": "python",
   "pygments_lexer": "ipython3",
   "version": "3.7.13"
  },
  "orig_nbformat": 4
 },
 "nbformat": 4,
 "nbformat_minor": 2
}
