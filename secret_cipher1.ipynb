{
 "cells": [
  {
   "cell_type": "code",
   "execution_count": 4,
   "metadata": {},
   "outputs": [
    {
     "name": "stdout",
     "output_type": "stream",
     "text": [
      "Now we can send each other secret messages in code\n",
      "edoc ni segassem terces rehto hcae dnes nac ew woN\n"
     ]
    }
   ],
   "source": [
    "with open ('./secret_message.txt', 'r') as message:\n",
    "    msg = message.read()\n",
    "    rev_msg = msg[::-1]\n",
    "    print(msg)\n",
    "    print(rev_msg)\n",
    "\n",
    "with open ('./reverse_cipher.txt', 'w') as rev_file:\n",
    "    rev_file.write(rev_msg)\n"
   ]
  },
  {
   "cell_type": "code",
   "execution_count": 50,
   "metadata": {},
   "outputs": [
    {
     "name": "stdout",
     "output_type": "stream",
     "text": [
      "ifmqanfaqmfbtf\n"
     ]
    }
   ],
   "source": [
    "#working version up to 26 with for loop and if/else\n",
    "letters = [' ','a', 'b', 'c', 'd', 'e', 'f', 'g', 'h', 'i', 'j', 'k', 'l', 'm', 'n', 'o', 'p', 'q', 'r', 's', 't', 'u', 'v', 'w', 'x', 'y', 'z']\n",
    "key = 1\n",
    "# input('Please enter a number between 1-26...')\n",
    "index_list = []\n",
    "result = []\n",
    "\n",
    "def crypt_list(msg):\n",
    "    key_list = list(msg)\n",
    "    for i in key_list:\n",
    "        new_index = letters.index(i) + int(key)\n",
    "        if (new_index > 25):\n",
    "             index_list.append(new_index - 26)\n",
    "        else:\n",
    "             index_list.append(new_index)\n",
    "    for i in index_list:\n",
    "        result.append(letters[i])\n",
    "    print(''.join(result))\n",
    "\n",
    "crypt_list('help me please')"
   ]
  },
  {
   "cell_type": "code",
   "execution_count": 42,
   "metadata": {},
   "outputs": [
    {
     "ename": "IndexError",
     "evalue": "list index out of range",
     "output_type": "error",
     "traceback": [
      "\u001b[0;31m---------------------------------------------------------------------------\u001b[0m",
      "\u001b[0;31mIndexError\u001b[0m                                Traceback (most recent call last)",
      "\u001b[0;32m/var/folders/5x/ph8t_tlx7kb2_w43x1mfvwd80000gn/T/ipykernel_27106/1636893691.py\u001b[0m in \u001b[0;36mcrypt_list\u001b[0;34m(msg)\u001b[0m\n\u001b[1;32m     15\u001b[0m         \u001b[0;32mtry\u001b[0m\u001b[0;34m:\u001b[0m\u001b[0;34m\u001b[0m\u001b[0;34m\u001b[0m\u001b[0m\n\u001b[0;32m---> 16\u001b[0;31m             \u001b[0mresult\u001b[0m\u001b[0;34m.\u001b[0m\u001b[0mappend\u001b[0m\u001b[0;34m(\u001b[0m\u001b[0mletters\u001b[0m\u001b[0;34m[\u001b[0m\u001b[0mi\u001b[0m\u001b[0;34m]\u001b[0m\u001b[0;34m)\u001b[0m\u001b[0;34m\u001b[0m\u001b[0;34m\u001b[0m\u001b[0m\n\u001b[0m\u001b[1;32m     17\u001b[0m         \u001b[0;32mexcept\u001b[0m\u001b[0;34m:\u001b[0m\u001b[0;34m\u001b[0m\u001b[0;34m\u001b[0m\u001b[0m\n",
      "\u001b[0;31mIndexError\u001b[0m: list index out of range",
      "\nDuring handling of the above exception, another exception occurred:\n",
      "\u001b[0;31mIndexError\u001b[0m                                Traceback (most recent call last)",
      "\u001b[0;32m/var/folders/5x/ph8t_tlx7kb2_w43x1mfvwd80000gn/T/ipykernel_27106/1636893691.py\u001b[0m in \u001b[0;36m<module>\u001b[0;34m\u001b[0m\n\u001b[1;32m     20\u001b[0m     \u001b[0mprint\u001b[0m\u001b[0;34m(\u001b[0m\u001b[0;34m''\u001b[0m\u001b[0;34m.\u001b[0m\u001b[0mjoin\u001b[0m\u001b[0;34m(\u001b[0m\u001b[0mresult\u001b[0m\u001b[0;34m)\u001b[0m\u001b[0;34m)\u001b[0m\u001b[0;34m\u001b[0m\u001b[0;34m\u001b[0m\u001b[0m\n\u001b[1;32m     21\u001b[0m \u001b[0;34m\u001b[0m\u001b[0m\n\u001b[0;32m---> 22\u001b[0;31m \u001b[0mcrypt_list\u001b[0m\u001b[0;34m(\u001b[0m\u001b[0;34m'zap'\u001b[0m\u001b[0;34m)\u001b[0m\u001b[0;34m\u001b[0m\u001b[0;34m\u001b[0m\u001b[0m\n\u001b[0m",
      "\u001b[0;32m/var/folders/5x/ph8t_tlx7kb2_w43x1mfvwd80000gn/T/ipykernel_27106/1636893691.py\u001b[0m in \u001b[0;36mcrypt_list\u001b[0;34m(msg)\u001b[0m\n\u001b[1;32m     17\u001b[0m         \u001b[0;32mexcept\u001b[0m\u001b[0;34m:\u001b[0m\u001b[0;34m\u001b[0m\u001b[0;34m\u001b[0m\u001b[0m\n\u001b[1;32m     18\u001b[0m             \u001b[0mletters\u001b[0m\u001b[0;34m.\u001b[0m\u001b[0mextend\u001b[0m\u001b[0;34m(\u001b[0m\u001b[0mletters\u001b[0m\u001b[0;34m)\u001b[0m\u001b[0;34m\u001b[0m\u001b[0;34m\u001b[0m\u001b[0m\n\u001b[0;32m---> 19\u001b[0;31m             \u001b[0mresult\u001b[0m\u001b[0;34m.\u001b[0m\u001b[0mappend\u001b[0m\u001b[0;34m(\u001b[0m\u001b[0mletters\u001b[0m\u001b[0;34m[\u001b[0m\u001b[0mi\u001b[0m\u001b[0;34m]\u001b[0m\u001b[0;34m)\u001b[0m\u001b[0;34m\u001b[0m\u001b[0;34m\u001b[0m\u001b[0m\n\u001b[0m\u001b[1;32m     20\u001b[0m     \u001b[0mprint\u001b[0m\u001b[0;34m(\u001b[0m\u001b[0;34m''\u001b[0m\u001b[0;34m.\u001b[0m\u001b[0mjoin\u001b[0m\u001b[0;34m(\u001b[0m\u001b[0mresult\u001b[0m\u001b[0;34m)\u001b[0m\u001b[0;34m)\u001b[0m\u001b[0;34m\u001b[0m\u001b[0;34m\u001b[0m\u001b[0m\n\u001b[1;32m     21\u001b[0m \u001b[0;34m\u001b[0m\u001b[0m\n",
      "\u001b[0;31mIndexError\u001b[0m: list index out of range"
     ]
    }
   ],
   "source": [
    "#working version up to 26 with try/except\n",
    "\n",
    "letters = ['a', 'b', 'c', 'd', 'e', 'f', 'g', 'h', 'i', 'j', 'k', 'l', 'm', 'n', 'o', 'p', 'q', 'r', 's', 't', 'u', 'v', 'w', 'x', 'y', 'z']\n",
    "key = 27\n",
    "# input('Enter a number...')\n",
    "index_list = []\n",
    "result = []\n",
    "\n",
    "def crypt_list(msg):\n",
    "    key_list = list(msg)\n",
    "    for i in key_list:\n",
    "        indexes = letters.index(i) + int(key)\n",
    "        index_list.append(indexes)\n",
    "    for i in index_list:\n",
    "        try:\n",
    "            result.append(letters[i])\n",
    "        except:\n",
    "            letters.extend(letters)\n",
    "            result.append(letters[i])\n",
    "    print(''.join(result))\n",
    "\n",
    "crypt_list('zap')"
   ]
  },
  {
   "cell_type": "code",
   "execution_count": null,
   "metadata": {},
   "outputs": [],
   "source": [
    "with open ('./secret_message.txt', 'r') as message:\n",
    "    msg = message.read()\n",
    "   \n",
    "\n",
    "with open ('./caesar_cipher.txt', 'w') as caesar_file:\n",
    "    caesar_file.write()"
   ]
  }
 ],
 "metadata": {
  "interpreter": {
   "hash": "9a8db7f0e6daa2a17717abc3ef42e4c5ecb17e010ba0d2b21c829abc02cdd9a2"
  },
  "kernelspec": {
   "display_name": "Python 3.7.13 ('venv': venv)",
   "language": "python",
   "name": "python3"
  },
  "language_info": {
   "codemirror_mode": {
    "name": "ipython",
    "version": 3
   },
   "file_extension": ".py",
   "mimetype": "text/x-python",
   "name": "python",
   "nbconvert_exporter": "python",
   "pygments_lexer": "ipython3",
   "version": "3.7.13"
  },
  "orig_nbformat": 4
 },
 "nbformat": 4,
 "nbformat_minor": 2
}
